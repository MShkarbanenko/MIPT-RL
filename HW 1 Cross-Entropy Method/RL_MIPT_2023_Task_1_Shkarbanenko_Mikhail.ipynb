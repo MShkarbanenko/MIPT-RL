{
  "cells": [
    {
      "cell_type": "markdown",
      "metadata": {
        "run_control": {
          "frozen": false,
          "read_only": false
        },
        "id": "2TDtCRv88o-1"
      },
      "source": [
        "# Глубокий кросс-энтропийный метод\n",
        "\n",
        "#### дедлайн задания: 19 марта, 23:59 GMT+3\n",
        "\n",
        "В данной работе будет рассмотрено обобщение кросс-энтропийного метода на случай параметризации агента с помощью нейросети. Перед вами будет поставлена задача обучить многослойную нейронную сеть для решения простых игр в непрерывных пространствах состояний."
      ]
    },
    {
      "cell_type": "markdown",
      "metadata": {
        "id": "aywEDS9r8o-2"
      },
      "source": [
        "# Работа выполнена: Шкарбаненко Михаилом Александровичем, группа Б05-907."
      ]
    },
    {
      "cell_type": "markdown",
      "source": [
        "Интересная работа. Я пропустил много пар...) и чтобы разобраться в происходящем использовал следующие ресурсы:\n",
        "\n",
        "*   https://blog.paperspace.com/getting-started-with-openai-gym/\n",
        "*   https://www.gymlibrary.dev/environments/classic_control/cart_pole/\n",
        "*  https://scikit-learn.org/stable/modules/generated/sklearn.neural_network.MLPClassifier.html#sklearn.neural_network.MLPClassifier.predict_proba\n",
        "* https://arxiv.org/pdf/2201.09746.pdf\n",
        "* Лекции  "
      ],
      "metadata": {
        "id": "FZoBeBl5QJyy"
      }
    },
    {
      "cell_type": "code",
      "execution_count": 127,
      "metadata": {
        "id": "lIsa5Yme8o-3"
      },
      "outputs": [],
      "source": [
        "# Для корректной работы ноутбука может понадобиться исполнение следующих команд\n",
        "# (инструкция для Unix-подобных систем):\n",
        "# !apt-get install -y xvfb x11-utils ffmpeg libav-tools python-opengl\n",
        "# !pip install piglet pyvirtualdisplay gym[all]==0.18.3"
      ]
    },
    {
      "cell_type": "code",
      "execution_count": 128,
      "metadata": {
        "ExecuteTime": {
          "end_time": "2019-09-18T14:49:08.272254Z",
          "start_time": "2019-09-18T14:49:08.268020Z"
        },
        "run_control": {
          "frozen": false,
          "read_only": false
        },
        "colab": {
          "base_uri": "https://localhost:8080/",
          "height": 1000
        },
        "id": "nOrvi8KW8o-4",
        "outputId": "e8cbbf4d-b91a-4831-f61e-24696062bce3"
      },
      "outputs": [
        {
          "output_type": "stream",
          "name": "stdout",
          "text": [
            "--2023-03-21 15:51:06--  https://bit.ly/2FMJP5K\n",
            "Resolving bit.ly (bit.ly)... 67.199.248.10, 67.199.248.11\n",
            "Connecting to bit.ly (bit.ly)|67.199.248.10|:443... connected.\n",
            "HTTP request sent, awaiting response... 301 Moved Permanently\n",
            "Location: https://raw.githubusercontent.com/yandexdataschool/Practical_RL/spring19/setup_colab.sh [following]\n",
            "--2023-03-21 15:51:07--  https://raw.githubusercontent.com/yandexdataschool/Practical_RL/spring19/setup_colab.sh\n",
            "Resolving raw.githubusercontent.com (raw.githubusercontent.com)... 185.199.108.133, 185.199.109.133, 185.199.110.133, ...\n",
            "Connecting to raw.githubusercontent.com (raw.githubusercontent.com)|185.199.108.133|:443... connected.\n",
            "HTTP request sent, awaiting response... 200 OK\n",
            "Length: 262 [text/plain]\n",
            "Saving to: ‘setup.py’\n",
            "\n",
            "setup.py            100%[===================>]     262  --.-KB/s    in 0s      \n",
            "\n",
            "2023-03-21 15:51:07 (16.6 MB/s) - ‘setup.py’ saved [262/262]\n",
            "\n",
            "Looking in indexes: https://pypi.org/simple, https://us-python.pkg.dev/colab-wheels/public/simple/\n",
            "Requirement already satisfied: gym in /usr/local/lib/python3.9/dist-packages (0.18.3)\n",
            "Requirement already satisfied: scipy in /usr/local/lib/python3.9/dist-packages (from gym) (1.10.1)\n",
            "Requirement already satisfied: numpy>=1.10.4 in /usr/local/lib/python3.9/dist-packages (from gym) (1.22.4)\n",
            "Requirement already satisfied: pyglet<=1.5.15,>=1.4.0 in /usr/local/lib/python3.9/dist-packages (from gym) (1.5.15)\n",
            "Requirement already satisfied: Pillow<=8.2.0 in /usr/local/lib/python3.9/dist-packages (from gym) (8.2.0)\n",
            "Requirement already satisfied: cloudpickle<1.7.0,>=1.2.0 in /usr/local/lib/python3.9/dist-packages (from gym) (1.6.0)\n",
            "Reading package lists... Done\n",
            "Building dependency tree       \n",
            "Reading state information... Done\n",
            "xvfb is already the newest version (2:1.20.13-1ubuntu1~20.04.6).\n",
            "0 upgraded, 0 newly installed, 0 to remove and 23 not upgraded.\n",
            "--2023-03-21 15:51:15--  https://raw.githubusercontent.com/yandexdataschool/Practical_DL/fall18/xvfb\n",
            "Resolving raw.githubusercontent.com (raw.githubusercontent.com)... 185.199.109.133, 185.199.108.133, 185.199.111.133, ...\n",
            "Connecting to raw.githubusercontent.com (raw.githubusercontent.com)|185.199.109.133|:443... connected.\n",
            "HTTP request sent, awaiting response... 200 OK\n",
            "Length: 640 [text/plain]\n",
            "Saving to: ‘../xvfb’\n",
            "\n",
            "../xvfb             100%[===================>]     640  --.-KB/s    in 0s      \n",
            "\n",
            "2023-03-21 15:51:15 (44.6 MB/s) - ‘../xvfb’ saved [640/640]\n",
            "\n",
            "Reading package lists... Done\n",
            "Building dependency tree       \n",
            "Reading state information... Done\n",
            "python-opengl is already the newest version (3.1.0+dfsg-2build1).\n",
            "ffmpeg is already the newest version (7:4.2.7-0ubuntu0.1).\n",
            "0 upgraded, 0 newly installed, 0 to remove and 23 not upgraded.\n",
            "Looking in indexes: https://pypi.org/simple, https://us-python.pkg.dev/colab-wheels/public/simple/\n",
            "Collecting pyglet==1.2.4\n",
            "  Using cached pyglet-1.2.4-py3-none-any.whl (964 kB)\n",
            "Installing collected packages: pyglet\n",
            "  Attempting uninstall: pyglet\n",
            "    Found existing installation: pyglet 1.5.15\n",
            "    Uninstalling pyglet-1.5.15:\n",
            "      Successfully uninstalled pyglet-1.5.15\n",
            "\u001b[31mERROR: pip's dependency resolver does not currently take into account all the packages that are installed. This behaviour is the source of the following dependency conflicts.\n",
            "gym 0.18.3 requires pyglet<=1.5.15,>=1.4.0, but you have pyglet 1.2.4 which is incompatible.\u001b[0m\u001b[31m\n",
            "\u001b[0mSuccessfully installed pyglet-1.2.4\n",
            "Looking in indexes: https://pypi.org/simple, https://us-python.pkg.dev/colab-wheels/public/simple/\n",
            "Requirement already satisfied: gym[classic_control]==0.18.3 in /usr/local/lib/python3.9/dist-packages (0.18.3)\n",
            "Requirement already satisfied: scipy in /usr/local/lib/python3.9/dist-packages (from gym[classic_control]==0.18.3) (1.10.1)\n",
            "Requirement already satisfied: numpy>=1.10.4 in /usr/local/lib/python3.9/dist-packages (from gym[classic_control]==0.18.3) (1.22.4)\n",
            "Collecting pyglet<=1.5.15,>=1.4.0\n",
            "  Using cached pyglet-1.5.15-py3-none-any.whl (1.1 MB)\n",
            "Requirement already satisfied: Pillow<=8.2.0 in /usr/local/lib/python3.9/dist-packages (from gym[classic_control]==0.18.3) (8.2.0)\n",
            "Requirement already satisfied: cloudpickle<1.7.0,>=1.2.0 in /usr/local/lib/python3.9/dist-packages (from gym[classic_control]==0.18.3) (1.6.0)\n",
            "Installing collected packages: pyglet\n",
            "  Attempting uninstall: pyglet\n",
            "    Found existing installation: pyglet 1.2.4\n",
            "    Uninstalling pyglet-1.2.4:\n",
            "      Successfully uninstalled pyglet-1.2.4\n",
            "Successfully installed pyglet-1.5.15\n"
          ]
        },
        {
          "output_type": "display_data",
          "data": {
            "application/vnd.colab-display-data+json": {
              "pip_warning": {
                "packages": [
                  "pyglet"
                ]
              }
            }
          },
          "metadata": {}
        }
      ],
      "source": [
        "# В Google Colab раскомментируйте это:\n",
        "!wget https://bit.ly/2FMJP5K -O setup.py && bash setup.py\n",
        "!pip install --upgrade gym[classic_control]==0.18.3\n",
        "\n",
        "# XVFB будет запущен в случае исполнения на сервере\n",
        "import os\n",
        "if type(os.environ.get(\"DISPLAY\")) is not str or len(os.environ.get(\"DISPLAY\")) == 0:\n",
        "    !bash ../xvfb start\n",
        "    os.environ['DISPLAY'] = ':1'"
      ]
    },
    {
      "cell_type": "code",
      "execution_count": 129,
      "metadata": {
        "ExecuteTime": {
          "end_time": "2019-09-18T14:49:15.992701Z",
          "start_time": "2019-09-18T14:49:08.275069Z"
        },
        "run_control": {
          "frozen": false,
          "read_only": false
        },
        "colab": {
          "base_uri": "https://localhost:8080/",
          "height": 308
        },
        "id": "2LCRQ0f58o-5",
        "outputId": "f5235051-9101-4a7a-81e3-7b7bb1b624e2"
      },
      "outputs": [
        {
          "output_type": "stream",
          "name": "stdout",
          "text": [
            "размерность вектора состояний dim = 4\n",
            "n_actions = 2\n"
          ]
        },
        {
          "output_type": "display_data",
          "data": {
            "text/plain": [
              "<Figure size 432x288 with 1 Axes>"
            ],
            "image/png": "[encoded data removed]"
          },
          "metadata": {}
        }
      ],
      "source": [
        "import gym\n",
        "import numpy as np\n",
        "import matplotlib.pyplot as plt\n",
        "%matplotlib inline\n",
        "import seaborn as sns\n",
        "sns.set(font_scale=1.)\n",
        "\n",
        "# если есть вывод \"<classname> has no attribute .env\", удалите .env или обновите gym\n",
        "env = gym.make('CartPole-v1')\n",
        "\n",
        "env.reset()\n",
        "state_dim = env.observation_space.shape[0]\n",
        "n_actions = env.action_space.n\n",
        "\n",
        "plt.imshow(env.render(\"rgb_array\"), )\n",
        "print(\"размерность вектора состояний dim =\", state_dim)\n",
        "print(\"n_actions =\", n_actions)\n",
        "\n",
        "env.close()"
      ]
    },
    {
      "cell_type": "code",
      "execution_count": 130,
      "metadata": {
        "ExecuteTime": {
          "end_time": "2019-09-18T14:49:15.999558Z",
          "start_time": "2019-09-18T14:49:15.995465Z"
        },
        "run_control": {
          "frozen": false,
          "read_only": false
        },
        "colab": {
          "base_uri": "https://localhost:8080/"
        },
        "id": "bUOlpUEP8o-5",
        "outputId": "0cf4f8bc-78f4-4643-a3e1-88b2c00fb5e0"
      },
      "outputs": [
        {
          "output_type": "execute_result",
          "data": {
            "text/plain": [
              "(Box(-3.4028234663852886e+38, 3.4028234663852886e+38, (4,), float32),\n",
              " Discrete(2))"
            ]
          },
          "metadata": {},
          "execution_count": 130
        }
      ],
      "source": [
        "env.observation_space, env.action_space"
      ]
    },
    {
      "cell_type": "markdown",
      "metadata": {
        "run_control": {
          "frozen": false,
          "read_only": false
        },
        "id": "PqcXha1i8o-5"
      },
      "source": [
        "# Нейросетевая политика, основная задача (10 баллов)\n",
        "\n",
        "Для текущей задачи будет использована упрощённая нейронная сеть, реализованная в библиотеке __[Scikit-learn](https://scikit-learn.org/stable/modules/generated/sklearn.neural_network.MLPClassifier.html)__. Что для решения задачи понадобится:\n",
        "\n",
        "* `agent.partial_fit(states, actions)` - выполнение одного прохода (одной эпохи) по данным для настройки параметров. В ходе вызова данного метода происходит приближённая максимизация вероятности :actions: при условии :states:\n",
        "* `agent.predict_proba(states)` - оценка вероятностей всех действий, матрица формы __[len(states), n_actions]__\n"
      ]
    },
    {
      "cell_type": "code",
      "execution_count": 131,
      "metadata": {
        "ExecuteTime": {
          "end_time": "2019-09-18T14:49:18.770363Z",
          "start_time": "2019-09-18T14:49:16.001843Z"
        },
        "run_control": {
          "frozen": false,
          "read_only": false
        },
        "colab": {
          "base_uri": "https://localhost:8080/",
          "height": 75
        },
        "id": "4mB1_UZA8o-6",
        "outputId": "b3006069-9a14-4523-ceb4-1d4e2d09805d"
      },
      "outputs": [
        {
          "output_type": "execute_result",
          "data": {
            "text/plain": [
              "MLPClassifier(activation='tanh', hidden_layer_sizes=(20, 20))"
            ],
            "text/html": [
              "<style>#sk-container-id-8 {color: black;background-color: white;}#sk-container-id-8 pre{padding: 0;}#sk-container-id-8 div.sk-toggleable {background-color: white;}#sk-container-id-8 label.sk-toggleable__label {cursor: pointer;display: block;width: 100%;margin-bottom: 0;padding: 0.3em;box-sizing: border-box;text-align: center;}#sk-container-id-8 label.sk-toggleable__label-arrow:before {content: \"▸\";float: left;margin-right: 0.25em;color: #696969;}#sk-container-id-8 label.sk-toggleable__label-arrow:hover:before {color: black;}#sk-container-id-8 div.sk-estimator:hover label.sk-toggleable__label-arrow:before {color: black;}#sk-container-id-8 div.sk-toggleable__content {max-height: 0;max-width: 0;overflow: hidden;text-align: left;background-color: #f0f8ff;}#sk-container-id-8 div.sk-toggleable__content pre {margin: 0.2em;color: black;border-radius: 0.25em;background-color: #f0f8ff;}#sk-container-id-8 input.sk-toggleable__control:checked~div.sk-toggleable__content {max-height: 200px;max-width: 100%;overflow: auto;}#sk-container-id-8 input.sk-toggleable__control:checked~label.sk-toggleable__label-arrow:before {content: \"▾\";}#sk-container-id-8 div.sk-estimator input.sk-toggleable__control:checked~label.sk-toggleable__label {background-color: #d4ebff;}#sk-container-id-8 div.sk-label input.sk-toggleable__control:checked~label.sk-toggleable__label {background-color: #d4ebff;}#sk-container-id-8 input.sk-hidden--visually {border: 0;clip: rect(1px 1px 1px 1px);clip: rect(1px, 1px, 1px, 1px);height: 1px;margin: -1px;overflow: hidden;padding: 0;position: absolute;width: 1px;}#sk-container-id-8 div.sk-estimator {font-family: monospace;background-color: #f0f8ff;border: 1px dotted black;border-radius: 0.25em;box-sizing: border-box;margin-bottom: 0.5em;}#sk-container-id-8 div.sk-estimator:hover {background-color: #d4ebff;}#sk-container-id-8 div.sk-parallel-item::after {content: \"\";width: 100%;border-bottom: 1px solid gray;flex-grow: 1;}#sk-container-id-8 div.sk-label:hover label.sk-toggleable__label {background-color: #d4ebff;}#sk-container-id-8 div.sk-serial::before {content: \"\";position: absolute;border-left: 1px solid gray;box-sizing: border-box;top: 0;bottom: 0;left: 50%;z-index: 0;}#sk-container-id-8 div.sk-serial {display: flex;flex-direction: column;align-items: center;background-color: white;padding-right: 0.2em;padding-left: 0.2em;position: relative;}#sk-container-id-8 div.sk-item {position: relative;z-index: 1;}#sk-container-id-8 div.sk-parallel {display: flex;align-items: stretch;justify-content: center;background-color: white;position: relative;}#sk-container-id-8 div.sk-item::before, #sk-container-id-8 div.sk-parallel-item::before {content: \"\";position: absolute;border-left: 1px solid gray;box-sizing: border-box;top: 0;bottom: 0;left: 50%;z-index: -1;}#sk-container-id-8 div.sk-parallel-item {display: flex;flex-direction: column;z-index: 1;position: relative;background-color: white;}#sk-container-id-8 div.sk-parallel-item:first-child::after {align-self: flex-end;width: 50%;}#sk-container-id-8 div.sk-parallel-item:last-child::after {align-self: flex-start;width: 50%;}#sk-container-id-8 div.sk-parallel-item:only-child::after {width: 0;}#sk-container-id-8 div.sk-dashed-wrapped {border: 1px dashed gray;margin: 0 0.4em 0.5em 0.4em;box-sizing: border-box;padding-bottom: 0.4em;background-color: white;}#sk-container-id-8 div.sk-label label {font-family: monospace;font-weight: bold;display: inline-block;line-height: 1.2em;}#sk-container-id-8 div.sk-label-container {text-align: center;}#sk-container-id-8 div.sk-container {/* jupyter's `normalize.less` sets `[hidden] { display: none; }` but bootstrap.min.css set `[hidden] { display: none !important; }` so we also need the `!important` here to be able to override the default hidden behavior on the sphinx rendered scikit-learn.org. See: https://github.com/scikit-learn/scikit-learn/issues/21755 */display: inline-block !important;position: relative;}#sk-container-id-8 div.sk-text-repr-fallback {display: none;}</style><div id=\"sk-container-id-8\" class=\"sk-top-container\"><div class=\"sk-text-repr-fallback\"><pre>MLPClassifier(activation=&#x27;tanh&#x27;, hidden_layer_sizes=(20, 20))</pre><b>In a Jupyter environment, please rerun this cell to show the HTML representation or trust the notebook. <br />On GitHub, the HTML representation is unable to render, please try loading this page with nbviewer.org.</b></div><div class=\"sk-container\" hidden><div class=\"sk-item\"><div class=\"sk-estimator sk-toggleable\"><input class=\"sk-toggleable__control sk-hidden--visually\" id=\"sk-estimator-id-8\" type=\"checkbox\" checked><label for=\"sk-estimator-id-8\" class=\"sk-toggleable__label sk-toggleable__label-arrow\">MLPClassifier</label><div class=\"sk-toggleable__content\"><pre>MLPClassifier(activation=&#x27;tanh&#x27;, hidden_layer_sizes=(20, 20))</pre></div></div></div></div></div>"
            ]
          },
          "metadata": {},
          "execution_count": 131
        }
      ],
      "source": [
        "from sklearn.neural_network import MLPClassifier, MLPRegressor\n",
        "\n",
        "agent = MLPClassifier(\n",
        "    hidden_layer_sizes=(20, 20),\n",
        "    activation='tanh',\n",
        ")\n",
        "\n",
        "# инициализация агента на размерности пространства состояний и пространства действий\n",
        "agent.partial_fit([env.reset()] * n_actions, range(n_actions), range(n_actions))"
      ]
    },
    {
      "cell_type": "code",
      "execution_count": 132,
      "metadata": {
        "ExecuteTime": {
          "end_time": "2019-09-18T14:49:18.800907Z",
          "start_time": "2019-09-18T14:49:18.772874Z"
        },
        "run_control": {
          "frozen": false,
          "read_only": false
        },
        "id": "LCQ9BimP8o-6"
      },
      "outputs": [],
      "source": [
        "def generate_session(agent, t_max=1000, test=False):\n",
        "    \"\"\"\n",
        "    Сыграть отдельный эпизод, используя нейросетевую параметризацию агента.\n",
        "    Останов после :t_max: шагов среды.\n",
        "    \"\"\"\n",
        "    states, actions = [], []\n",
        "    total_reward = 0\n",
        "\n",
        "    s = env.reset()\n",
        "\n",
        "    for t in range(t_max):\n",
        "        \n",
        "        # Используйте модель агента для оценки распределения на действия для текущего состояния :s:\n",
        "        probs = agent.predict_proba([s])[0] # <Код для вывода оценки вероятности по выходу нейросети>\n",
        "\n",
        "        assert probs.shape == (n_actions,), \"Нужно получить вектор вероятностей (функция np.reshape в помощь)\"\n",
        "        \n",
        "        # Используйте текущую оценку политики для выбора действия\n",
        "        if test:\n",
        "            # на тестовом прогоне или на валидации используйте\n",
        "            # детерминированную стратегию\n",
        "            a = np.argmax(probs) # <Выбор наиболее вероятного действия>\n",
        "            # ^-- подсказка: попробуйте функцию np.argmax\n",
        "        else:\n",
        "            # сэмплирование пропорционально политике $\\pi(a|s)$,\n",
        "            # не нужно выбирать детерминированно наиболее вероятное действие\n",
        "            a = np.random.choice(2, 1, p=probs)[0] # <Сэмплирование действия относительно распределения, задаваемого политикой>\n",
        "            # ^-- подсказка: попробуйте функцию np.random.choice\n",
        "\n",
        "        new_s, r, done, info = env.step(a)\n",
        "\n",
        "        # Запись статистики текущего эпизода\n",
        "        states.append(s)\n",
        "        actions.append(a)\n",
        "        total_reward += r\n",
        "\n",
        "        s = new_s\n",
        "        if done:\n",
        "            break\n",
        "    return states, actions, total_reward"
      ]
    },
    {
      "cell_type": "code",
      "execution_count": 133,
      "metadata": {
        "ExecuteTime": {
          "end_time": "2019-09-18T14:49:18.825783Z",
          "start_time": "2019-09-18T14:49:18.804175Z"
        },
        "run_control": {
          "frozen": false,
          "read_only": false
        },
        "colab": {
          "base_uri": "https://localhost:8080/"
        },
        "id": "uxvjaxgK8o-6",
        "outputId": "9ea72dc7-581a-4092-e6d3-f149a6639607"
      },
      "outputs": [
        {
          "output_type": "stream",
          "name": "stdout",
          "text": [
            "states: [[-0.04431389 -0.04980223 -0.01415092 -0.01929755]\n",
            " [-0.04530993  0.14551977 -0.01453687 -0.31641145]\n",
            " [-0.04239954  0.34084573 -0.0208651  -0.61364313]\n",
            " [-0.03558262  0.14602147 -0.03313796 -0.32760424]\n",
            " [-0.03266219  0.34159914 -0.03969005 -0.63055046]]\n",
            "actions: [1, 1, 0, 1, 1]\n",
            "reward: 5.0\n"
          ]
        }
      ],
      "source": [
        "dummy_states, dummy_actions, dummy_reward = generate_session(agent, t_max=5)\n",
        "print(\"states:\", np.stack(dummy_states))\n",
        "print(\"actions:\", dummy_actions)\n",
        "print(\"reward:\", dummy_reward)"
      ]
    },
    {
      "cell_type": "markdown",
      "metadata": {
        "run_control": {
          "frozen": false,
          "read_only": false
        },
        "id": "Qz_ZHu7O8o-6"
      },
      "source": [
        "### Шаги кросс-энтропийного метода\n",
        "Общая схема кросс-энтропийного метода (CEM) приведена на странице 35 (параграф 2.2.4.) учебного [пособия](https://arxiv.org/pdf/2201.09746.pdf).\n",
        "\n",
        "Глубокий CEM использует точно такую же стратегию, что и обычный CEM.\n",
        "\n",
        "Главное отличие состоит в том, что теперь каждое наблюдение не число, а `float32` вектор."
      ]
    },
    {
      "cell_type": "code",
      "execution_count": 134,
      "metadata": {
        "ExecuteTime": {
          "end_time": "2019-09-18T14:49:18.845899Z",
          "start_time": "2019-09-18T14:49:18.827600Z"
        },
        "run_control": {
          "frozen": false,
          "read_only": false
        },
        "id": "ompMXs9h8o-7"
      },
      "outputs": [],
      "source": [
        "def select_elites(states_batch, actions_batch, rewards_batch, percentile=50):\n",
        "    \"\"\"\n",
        "    Выбрать states и actions из игр с rewards >= percentile\n",
        "    :param states_batch: list of lists of states, states_batch[session_i][t]\n",
        "    :param actions_batch: list of lists of actions, actions_batch[session_i][t]\n",
        "    :param rewards_batch: list of rewards, rewards_batch[session_i]\n",
        "\n",
        "    :returns: elite_states, elite_actions, оба 1D lists of states и actions из наилучших эпизодов\n",
        "\n",
        "    Просьба сохранять порядок elite states и actions \n",
        "    [то есть сортированы по номерам эпизодов и в хронологическом порядке в каждом эпизоде]\n",
        "\n",
        "    Просьба не считать по умолчанию states как целочисленные значения\n",
        "    (они позже примут другой формат).\n",
        "    \"\"\"\n",
        "\n",
        "    # <Ваша имплементация>\n",
        "\n",
        "    n = len(states_batch)\n",
        "    elite_states, elite_actions = [], []\n",
        "    threshold = np.percentile(rewards_batch, percentile)\n",
        "    for i in range(n):\n",
        "        if rewards_batch[i] >= threshold:\n",
        "          for state in states_batch[i]:\n",
        "              elite_states.append(state)\n",
        "          for action in actions_batch[i]:\n",
        "              elite_actions.append(action)\n",
        "\n",
        "    # Заметим, что это отличается от табличного случая.\n",
        "    # Теперь наша нейронная сеть обучается на одном объекте с входной размерностью `(1, n_states)`.\n",
        "    # То есть следует использовать `np.squeeze`, чтобы избавиться от ведущего измерения в `select_elites`.\n",
        "    \n",
        "    return elite_states, elite_actions"
      ]
    },
    {
      "cell_type": "markdown",
      "metadata": {
        "run_control": {
          "frozen": false,
          "read_only": false
        },
        "id": "dTmd4Dnd8o-7"
      },
      "source": [
        "# Цикл обучения\n",
        "Генерация эпизодов, выбор N лучших и обучение на них."
      ]
    },
    {
      "cell_type": "code",
      "execution_count": 135,
      "metadata": {
        "ExecuteTime": {
          "end_time": "2019-09-18T14:49:18.868655Z",
          "start_time": "2019-09-18T14:49:18.848299Z"
        },
        "run_control": {
          "frozen": false,
          "read_only": false
        },
        "id": "RAjEXWs78o-7"
      },
      "outputs": [],
      "source": [
        "from IPython.display import clear_output\n",
        "\n",
        "def show_progress(rewards_batch, log, percentile, reward_range=[-990, +10]):\n",
        "    \"\"\"\n",
        "    Функция-помощник, которая визуализирует процесс обучения.\n",
        "    Никакой крутой математики здесь нет, только построение графиков.\n",
        "    \"\"\"\n",
        "\n",
        "    mean_reward = np.mean(rewards_batch)\n",
        "    threshold = np.percentile(rewards_batch, percentile)\n",
        "    log.append([mean_reward, threshold])\n",
        "\n",
        "    print(\"средняя награда = %.3f, порог=%.3f\" % (mean_reward, threshold))\n",
        "    plt.figure(figsize=[8, 4])\n",
        "    plt.subplot(1, 2, 1)\n",
        "    plt.plot(list(zip(*log))[0], label='Средние награды')\n",
        "    plt.plot(list(zip(*log))[1], label='Пороги наград')\n",
        "    plt.legend()\n",
        "    plt.grid()\n",
        "\n",
        "    plt.subplot(1, 2, 2)\n",
        "    plt.hist(rewards_batch, range=reward_range)\n",
        "    plt.vlines([np.percentile(rewards_batch, percentile)],\n",
        "               [0], [100], label=\"перцентиль\", color='red')\n",
        "    plt.legend()\n",
        "    plt.grid()\n",
        "\n",
        "    clear_output(True)\n",
        "    plt.show()"
      ]
    },
    {
      "cell_type": "code",
      "execution_count": 136,
      "metadata": {
        "ExecuteTime": {
          "end_time": "2019-09-18T15:04:30.103876Z",
          "start_time": "2019-09-18T14:49:18.873681Z"
        },
        "run_control": {
          "frozen": false,
          "read_only": false
        },
        "colab": {
          "base_uri": "https://localhost:8080/",
          "height": 322
        },
        "id": "TG85PE_G8o-7",
        "outputId": "8211caff-17e3-4543-e61d-f9e5c7a78ddd"
      },
      "outputs": [
        {
          "output_type": "display_data",
          "data": {
            "text/plain": [
              "<Figure size 576x288 with 2 Axes>"
            ],
            "image/png": "[encoded data removed]"
          },
          "metadata": {}
        },
        {
          "output_type": "stream",
          "name": "stdout",
          "text": [
            "Вы выиграли! Можете прервать процедуру обучения с помощью сигнала KeyboardInterrupt.\n",
            "CPU times: user 1min 35s, sys: 4.25 s, total: 1min 40s\n",
            "Wall time: 1min 48s\n"
          ]
        }
      ],
      "source": [
        "%%time\n",
        "\n",
        "sns.set(font_scale=1.)\n",
        "n_sessions = 100\n",
        "percentile = 70\n",
        "log = []\n",
        "\n",
        "for i in range(100):\n",
        "    print(\"Итерация метода № {}:\".format(i + 1))\n",
        "    # генерация новых эпизодов\n",
        "    # <генерация списка из n_sessions эпизодов>\n",
        "    sessions = [generate_session(agent) for _ in range(n_sessions)]\n",
        "\n",
        "    states_batch, actions_batch, rewards_batch = map(np.array, zip(*sessions))\n",
        "\n",
        "    elite_states, elite_actions =  select_elites(states_batch, actions_batch, rewards_batch) # <выбор наилучшых действий с помощью select_elites()\n",
        "\n",
        "    agent.partial_fit(elite_states, elite_actions)\n",
        "    # <partial_fit агента для обучения на elite_actions (y, целевой переменной)\n",
        "    # при условии elite_states (X, данных)>\n",
        "\n",
        "    show_progress(rewards_batch, log, percentile, reward_range=[0, np.max(rewards_batch)])\n",
        "\n",
        "    if np.mean(rewards_batch) > 190:\n",
        "        print(\"Вы выиграли! Можете прервать процедуру обучения с помощью сигнала KeyboardInterrupt.\")\n",
        "        break"
      ]
    },
    {
      "cell_type": "markdown",
      "metadata": {
        "run_control": {
          "frozen": false,
          "read_only": false
        },
        "id": "wjvErsem8o-7"
      },
      "source": [
        "# Результаты"
      ]
    },
    {
      "cell_type": "code",
      "execution_count": 137,
      "metadata": {
        "ExecuteTime": {
          "end_time": "2019-09-18T15:04:43.484212Z",
          "start_time": "2019-09-18T15:04:30.106224Z"
        },
        "run_control": {
          "frozen": false,
          "read_only": false
        },
        "id": "1xJ2GJgX8o-8"
      },
      "outputs": [],
      "source": [
        "# запись эпизодов\n",
        "import gym.wrappers\n",
        "for kind, directory in [(True, \"test\"), (False, \"sample\")]:\n",
        "    env = gym.wrappers.Monitor(gym.make(\"CartPole-v1\"),\n",
        "                               directory=\"videos/CartPole-v1/{}\".format(directory), force=True)\n",
        "    sessions = [generate_session(agent, test=kind) for _ in range(100)]\n",
        "    env.close()"
      ]
    },
    {
      "cell_type": "markdown",
      "metadata": {
        "id": "kT6q0srD8o-8"
      },
      "source": [
        "Детерминированная политика:"
      ]
    },
    {
      "cell_type": "code",
      "execution_count": 138,
      "metadata": {
        "ExecuteTime": {
          "end_time": "2019-09-18T15:04:43.508057Z",
          "start_time": "2019-09-18T15:04:43.498495Z"
        },
        "run_control": {
          "frozen": false,
          "read_only": false
        },
        "colab": {
          "base_uri": "https://localhost:8080/",
          "height": 501
        },
        "id": "gxA4pvN68o-8",
        "outputId": "19bfbace-7b90-4fe9-cd31-43e478767994"
      },
      "outputs": [
        {
          "output_type": "execute_result",
          "data": {
            "text/plain": [
              "<IPython.core.display.HTML object>"
            ],
            "text/html": [
              "\n",
              "<video width=\"640\" height=\"480\" controls>\n",
              "  <source src=\"data:video/mp4;base64,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\" type=\"video/mp4\">\n",
              "</video>\n"
            ]
          },
          "metadata": {},
          "execution_count": 138
        }
      ],
      "source": [
        "# демонстрация видео\n",
        "from IPython.display import HTML\n",
        "import os\n",
        "from base64 import b64encode\n",
        "\n",
        "video_names = list(\n",
        "    filter(lambda s: s.endswith(\".mp4\"), os.listdir(\"./videos/CartPole-v1/test\")))\n",
        "\n",
        "v = open(\"./videos/CartPole-v1/test/\" + video_names[-1], \"rb\").read()\n",
        "f = \"data:video/mp4;base64,\" + b64encode(v).decode()\n",
        "\n",
        "HTML(\"\"\"\n",
        "<video width=\"640\" height=\"480\" controls>\n",
        "  <source src=\"{}\" type=\"video/mp4\">\n",
        "</video>\n",
        "\"\"\".format(f))"
      ]
    },
    {
      "cell_type": "markdown",
      "metadata": {
        "id": "99pa-VQK8o-8"
      },
      "source": [
        "Стохастическая политика:"
      ]
    },
    {
      "cell_type": "code",
      "execution_count": 139,
      "metadata": {
        "colab": {
          "base_uri": "https://localhost:8080/",
          "height": 501
        },
        "id": "uqHxH8L18o-8",
        "outputId": "585e7a36-d36f-4981-e8fb-242b8a9ee4e3"
      },
      "outputs": [
        {
          "output_type": "execute_result",
          "data": {
            "text/plain": [
              "<IPython.core.display.HTML object>"
            ],
            "text/html": [
              "\n",
              "<video width=\"640\" height=\"480\" controls>\n",
              "  <source src=\"data:video/mp4;base64,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\" type=\"video/mp4\">\n",
              "</video>\n"
            ]
          },
          "metadata": {},
          "execution_count": 139
        }
      ],
      "source": [
        "video_names = list(\n",
        "    filter(lambda s: s.endswith(\".mp4\"), os.listdir(\"./videos/CartPole-v1/sample\")))\n",
        "\n",
        "v = open(\"./videos/CartPole-v1/sample/\" + video_names[-1], \"rb\").read()\n",
        "f = \"data:video/mp4;base64,\" + b64encode(v).decode()\n",
        "\n",
        "HTML(\"\"\"\n",
        "<video width=\"640\" height=\"480\" controls>\n",
        "  <source src=\"{}\" type=\"video/mp4\">\n",
        "</video>\n",
        "\"\"\".format(f))"
      ]
    },
    {
      "cell_type": "markdown",
      "metadata": {
        "run_control": {
          "frozen": false,
          "read_only": false
        },
        "id": "2cp1gx6S8o-8"
      },
      "source": [
        "# Дополнительные задания\n",
        "\n",
        "#### дедлайн дополнительного задания: за две недели до официальной даты экзамена, 23:59 GMT+3\n",
        "\n",
        "### Глубокий кросс-энтропийный метод\n",
        "\n",
        "На данный момент у Вас должна быть достаточно хорошая награда в [CartPole-v1](https://www.gymlibrary.dev/environments/classic_control/cart_pole/), чтобы считать основное задание выполненным (см. ссылку). Время попробовать что-нибудь посложнее.\n",
        "\n",
        "### Задания (вплоть до 10 баллов)\n",
        "\n",
        "* __2.1__ Выбрать одну из сред: MountainCar-v0 или LunarLander-v2.\n",
        "  * Для MountainCar, получить среднее вознаграждение __как минимум -150__\n",
        "  * For LunarLander, получить среднее вознаграждение __как минимум +50__\n",
        "\n",
        "Рекомендуем обратить внимание на раздел с советами ниже, это важно.\n",
        "\n",
        "* __2.2__ Разработать способ ускорения обучения хотя бы в два раза по сравнению с версией по умолчанию\n",
        "  * Очевидное улучшение: использовать [joblib](https://www.google.com/search?client=ubuntu&channel=fs&q=joblib&ie=utf-8&oe=utf-8) или multiprocessing\n",
        "  * Попробовать переиспользовать сэмплы из 3-5 последних итераций при вычислении порога и при обучении\n",
        "  * Поэкспериментировать с количеством итераций обучения и шагом метода обучения (learning rate) нейронной сети (смотеть params)\n",
        "  \n",
        "  \n",
        "### Советы\n",
        "* Страница Gym: [MountainCar](https://www.gymlibrary.dev/environments/classic_control/mountain_car/), [LunarLander](https://www.gymlibrary.dev/environments/box2d/lunar_lander/)\n",
        "* Эпизоды в MountainCar могут длиться более 10k+ шагов. Убедитесь, что параметр ```t_max``` не меньше 10k.\n",
        " * Также может быть хорошей идеей строго отбирать награды через \">\", а не \">=\" (strictly_select_elites). Если 90% Ваших эпизодов имеют награду -10k и 20% лучше, тода если Вы используйте перцентиль 20% как порог, R >= порог __не может отклонить неуспешные эпизоды__, в то время как R > справляется с этим корректно.\n",
        "* _проблема сред gym_: некоторые версии gym ограничивают эпизод 200 шагами. Это ограничивает возможности CEM в обучении в большинстве случаев. Убедитесь, что Ваш агент способен симулировать эпизоды с заданным __t_max__, и если нет, то попробуйте `env = gym.make(\"MountainCar-v0\").env` или в ином случае избавьтесь от TimeLimit wrapper.\n",
        "* Если Вы пользуетесь старой _swig_ библиотекой для LunarLander-v2, у Вас может возникнуть ошибка. Детали по [ссылке](https://github.com/openai/gym/issues/100) с решением проблемы.\n",
        "* Если CEM не будет обучаться, то построение диаграмм распределения награды и запись видео эпизодов могут помочь: они Вас могут натолкнуть на идею исправления.\n",
        "* 20-нейронной сети может не хватить, не стесняйтесь экспериментировать.\n",
        "\n",
        "Ячейка с кодом ниже может оказаться полезной:"
      ]
    },
    {
      "cell_type": "code",
      "execution_count": null,
      "metadata": {
        "id": "ygsctjNm8o-8"
      },
      "outputs": [],
      "source": [
        "def visualize_mountain_car(env, agent):\n",
        "    xs = np.linspace(env.min_position, env.max_position, 100)\n",
        "    vs = np.linspace(-env.max_speed, env.max_speed, 100)\n",
        "    grid = np.dstack(np.meshgrid(xs, vs)).transpose(1, 0, 2)\n",
        "    grid_flat = grid.reshape(len(xs) * len(vs), 2)\n",
        "    probs = agent.predict_proba(grid_flat).reshape(len(xs), len(vs), 3)\n",
        "    return probs"
      ]
    },
    {
      "cell_type": "markdown",
      "metadata": {
        "id": "XrBTOjXR8o-9"
      },
      "source": [
        "Функции-помощники для инициализации среды:"
      ]
    },
    {
      "cell_type": "code",
      "execution_count": null,
      "metadata": {
        "ExecuteTime": {
          "end_time": "2019-09-18T12:21:17.631855Z",
          "start_time": "2019-09-18T12:21:17.626438Z"
        },
        "run_control": {
          "frozen": false,
          "read_only": false
        },
        "id": "RFPPcZO_8o-9"
      },
      "outputs": [],
      "source": [
        "def get_env(name, classification=True):\n",
        "    env = gym.make(name).env\n",
        "    \n",
        "    env.reset()\n",
        "    if classification:\n",
        "        n_actions = env.action_space.n\n",
        "    else:\n",
        "        n_actions = sum(env.action_space.shape)\n",
        "    state_dim = env.observation_space.shape[0]\n",
        "    \n",
        "    plt.imshow(env.render(\"rgb_array\"))\n",
        "    print(\"state vector dim =\", state_dim)\n",
        "    print(\"n_actions =\", n_actions)\n",
        "    \n",
        "    env.close()\n",
        "    return env, n_actions, state_dim"
      ]
    },
    {
      "cell_type": "markdown",
      "metadata": {
        "id": "M61A58w78o-9"
      },
      "source": [
        "Строгий отбор states и actions на основе перцентилей:"
      ]
    },
    {
      "cell_type": "code",
      "execution_count": null,
      "metadata": {
        "ExecuteTime": {
          "end_time": "2019-09-18T11:27:01.282729Z",
          "start_time": "2019-09-18T11:27:01.270077Z"
        },
        "run_control": {
          "frozen": false,
          "read_only": false
        },
        "id": "namI9cmf8o-9"
      },
      "outputs": [],
      "source": [
        "def strictly_select_elites(states_batch, actions_batch, rewards_batch, percentile=50, classification=True):\n",
        "    \"\"\"\n",
        "    Выбрать states и actions из игр с rewards >= percentile\n",
        "    :param states_batch: list of lists of states, states_batch[session_i][t]\n",
        "    :param actions_batch: list of lists of actions, actions_batch[session_i][t]\n",
        "    :param rewards_batch: list of rewards, rewards_batch[session_i]\n",
        "\n",
        "    :returns: elite_states,elite_actions, оба 1D lists of states и actions из наилучших эпизодов\n",
        "\n",
        "    Просьба сохранять порядок elite states и actions \n",
        "    [то есть сортированы по номерам эпизодов и в хронологическом порядке в каждом эпизоде]\n",
        "\n",
        "    Просьба не считать по умолчанию states как целочисленные значения\n",
        "    (они позже примут другой формат).\n",
        "    Отбор в случае решения задачи классификации и в случае решения задачи регрессии несколько отличаются.\n",
        "    \"\"\"\n",
        "\n",
        "    < Ваша имплементация >\n",
        "    \n",
        "    return elite_states, elite_actions"
      ]
    },
    {
      "cell_type": "markdown",
      "metadata": {
        "id": "kAk-2tLy8o-9"
      },
      "source": [
        "Обёртка для инициализации агента:"
      ]
    },
    {
      "cell_type": "code",
      "execution_count": null,
      "metadata": {
        "ExecuteTime": {
          "end_time": "2019-09-18T15:07:35.917489Z",
          "start_time": "2019-09-18T15:07:35.909155Z"
        },
        "run_control": {
          "frozen": false,
          "read_only": false
        },
        "id": "fuFIOPq38o-9"
      },
      "outputs": [],
      "source": [
        "from sklearn.neural_network import MLPRegressor\n",
        "\n",
        "\n",
        "def init_agent(env, classification=True, **params):\n",
        "    if classification:\n",
        "        agent = MLPClassifier(\n",
        "            hidden_layer_sizes=(20, 20, 20, 20),\n",
        "            activation='tanh',\n",
        "        )\n",
        "    else:\n",
        "        agent = MLPRegressor(\n",
        "            hidden_layer_sizes=(20, 20, 20, 20),\n",
        "            activation='tanh',\n",
        "        )\n",
        "    \n",
        "    agent.set_params(**params)\n",
        "    \n",
        "    if classification:\n",
        "        n_actions = env.action_space.n\n",
        "        agent.partial_fit([env.reset()] * n_actions, range(n_actions), range(n_actions))\n",
        "    else:\n",
        "        n_actions = sum(env.action_space.shape)\n",
        "        if n_actions > 1:\n",
        "            agent.partial_fit([env.reset()], np.random.randn(1, n_actions))\n",
        "        else:\n",
        "            agent.partial_fit([env.reset()], np.random.randn(n_actions))\n",
        "    \n",
        "    return agent"
      ]
    },
    {
      "cell_type": "markdown",
      "metadata": {
        "id": "hoKERz5g8o-9"
      },
      "source": [
        "Генератор эпизодов, приспособленный к параллелизации:"
      ]
    },
    {
      "cell_type": "code",
      "execution_count": null,
      "metadata": {
        "id": "X85KJ6tu8o-9"
      },
      "outputs": [],
      "source": [
        "import pickle as pkl\n",
        "\n",
        "\n",
        "def generate_parallel_session(agent, name='MountainCar-v0', t_max=10000, classification=True,\n",
        "                              epsilon=0.01, agent_mul_fac=1.0, test=False, env=None):\n",
        "    \"\"\"\n",
        "    Сыграть отдельный эпизод, используя нейросетевую параметризацию агента.\n",
        "    Останов после :t_max: шагов среды.\n",
        "    \"\"\"\n",
        "    \n",
        "    states, actions = [], []\n",
        "    total_reward = 0\n",
        "    \n",
        "    if env is None:\n",
        "        env = gym.make(name).env\n",
        "    if classification:\n",
        "        n_actions = env.action_space.n\n",
        "    else:\n",
        "        n_actions = sum(env.action_space.shape)\n",
        "    s = env.reset()\n",
        "\n",
        "    for t in range(t_max):\n",
        "        \n",
        "        if classification:\n",
        "            probs = < оценка вероятностей нейросетевой модели >\n",
        "\n",
        "            assert probs.shape == (n_actions,), \"Нужно получить вектор вероятностей\" +\\\n",
        "                \"(функция np.reshape в помощь)\"\n",
        "            \n",
        "            if test:\n",
        "                a = < наиболее вероятное действия относительно probs >\n",
        "            else:\n",
        "                a = < сэмпл действия из распределения probs >\n",
        "        else:\n",
        "            expected_action = < оценка с помощью модели среднего действия, помноженного на agent_mul_fac >\n",
        "            \n",
        "            if test:\n",
        "                a = < само expected_action >\n",
        "            else:\n",
        "                a = < сэмпл из Normal(expected_action, epsilon) >\n",
        "\n",
        "        new_s, r, done, info = env.step(a)\n",
        "\n",
        "        states.append(s)\n",
        "        actions.append(a)\n",
        "        total_reward += r\n",
        "\n",
        "        s = new_s\n",
        "        if done:\n",
        "            break\n",
        "    \n",
        "    del env, s, new_s, a\n",
        "    \n",
        "    return states, actions, total_reward"
      ]
    },
    {
      "cell_type": "markdown",
      "metadata": {
        "id": "kGucaw9i8o--"
      },
      "source": [
        "Функция для обучения агента:"
      ]
    },
    {
      "cell_type": "code",
      "execution_count": null,
      "metadata": {
        "ExecuteTime": {
          "end_time": "2019-09-18T11:27:05.573082Z",
          "start_time": "2019-09-18T11:27:05.556702Z"
        },
        "run_control": {
          "frozen": false,
          "read_only": false
        },
        "id": "PMzY18vp8o--"
      },
      "outputs": [],
      "source": [
        "from collections import deque\n",
        "from multiprocessing import Pool\n",
        "from functools import partial\n",
        "\n",
        "\n",
        "def train_agent(classification=True, epsilon=0.01, name='MountainCar-v0', n_train_steps=100,\n",
        "                n_game_steps=10000, n_sessions=100, percentile=70, goal_score=-150, history_length=4,\n",
        "                n_jobs=16, verbose=True, agent_mul_fac=1.0, **params):\n",
        "    env = gym.make(name).env\n",
        "    if classification:\n",
        "        n_actions = env.action_space.n\n",
        "    else:\n",
        "        n_actions = sum(env.action_space.shape)\n",
        "    \n",
        "    agent = init_agent(env, classification, **params)\n",
        "    \n",
        "    if verbose:\n",
        "        print('Шаг агента = {}'.format(agent.learning_rate_init), flush=True)\n",
        "    \n",
        "    log = []\n",
        "    sessions = deque([], history_length * n_sessions)\n",
        "    \n",
        "    for i in range(n_train_steps):\n",
        "        if n_jobs > 1:\n",
        "            pool = Pool(processes=n_jobs, maxtasksperchild=10)\n",
        "            sessions.extend(pool.map(partial(generate_parallel_session, agent, name, n_game_steps,\n",
        "                                             classification, epsilon, agent_mul_fac), [False] * n_sessions))\n",
        "            pool.close()\n",
        "            pool.join()\n",
        "            del pool\n",
        "        else:\n",
        "            sessions.extend([generate_parallel_session(\n",
        "                agent, name, n_game_steps, classification, epsilon, agent_mul_fac,\n",
        "                False) for _ in range(n_sessions)])\n",
        "        \n",
        "        states_batch, actions_batch, rewards_batch = map(np.array, zip(*sessions))\n",
        "        elite_states, elite_actions = strictly_select_elites(\n",
        "            states_batch, actions_batch, rewards_batch, percentile, classification)\n",
        "        \n",
        "        if classification:\n",
        "            agent.partial_fit(elite_states, elite_actions)\n",
        "        else:\n",
        "            elite_actions = elite_actions if (len(elite_actions.shape) < 2) or (elite_actions.shape[1] > 1)\\\n",
        "                            else elite_actions.reshape(-1)\n",
        "            agent.partial_fit(elite_states, elite_actions / agent_mul_fac)\n",
        "        \n",
        "        if verbose:\n",
        "            inter_min = np.min(rewards_batch)\n",
        "            min_lim = -n_game_steps if -n_game_steps < inter_min else inter_min\n",
        "            inter_max = np.max(rewards_batch)\n",
        "            max_lim = goal_score if goal_score > inter_max else inter_max\n",
        "            show_progress(rewards_batch, log, percentile, reward_range=[min_lim, max_lim])\n",
        "            \n",
        "            if np.mean(rewards_batch) > goal_score:\n",
        "                print(\"Вы выиграли! Можете прервать процедуру обучения с помощью сигнала KeyboardInterrupt.\")\n",
        "    \n",
        "    if verbose:\n",
        "        mean_reward = np.mean(rewards_batch)\n",
        "        threshold = np.percentile(rewards_batch, percentile)\n",
        "        print(\"средняя награда = %.3f, порог=%.3f\" % (mean_reward, threshold))\n",
        "        del mean_reward, threshold\n",
        "    \n",
        "    del env, sessions, states_batch, actions_batch, rewards_batch, elite_states, elite_actions\n",
        "    \n",
        "    return agent, log"
      ]
    },
    {
      "cell_type": "markdown",
      "metadata": {
        "id": "HA_m2nIJ8o--"
      },
      "source": [
        "Функция для постановки экспериментов, зависящих от набора гиперпараметров:"
      ]
    },
    {
      "cell_type": "code",
      "execution_count": null,
      "metadata": {
        "id": "K4L3VGzl8o--"
      },
      "outputs": [],
      "source": [
        "from time import time\n",
        "\n",
        "\n",
        "def training_experiment(n_jobs_list, history_length_list, learning_rate_init_list, n_train_steps_list,\n",
        "                        n_samples=5, name='MountainCar-v0', n_game_steps=10000, n_sessions=100, percentile=70,\n",
        "                        goal_score=-150, **params):\n",
        "    experiment_data = []\n",
        "    \n",
        "    for n_jobs in n_jobs_list:\n",
        "        for history_length in history_length_list:\n",
        "            for learning_rate_init in learning_rate_init_list:\n",
        "                params['learning_rate_init'] = learning_rate_init\n",
        "                for n_train_steps in n_train_steps_list:\n",
        "                    elapsed_time_list = []\n",
        "                    log_list = []\n",
        "                    \n",
        "                    for i in range(n_samples):\n",
        "                        print(\n",
        "                            'Запуск: n_jobs = {}, history_length = {},\\n'.format(\n",
        "                                n_jobs, history_length) +\\\n",
        "                            '                  learning_rate_init = {}, n_train_steps = {};\\n'.format(\n",
        "                                learning_rate_init, n_train_steps) +\\\n",
        "                            'сэмпл {} из {}.'.format(\n",
        "                                i + 1, n_samples), flush=True)\n",
        "                        \n",
        "                        elapsed_time = time()\n",
        "                        \n",
        "                        agent, log = train_agent(\n",
        "                            classification=True, epsilon=0.01, name=name, n_train_steps=n_train_steps,\n",
        "                            n_game_steps=n_game_steps, n_sessions=n_sessions, percentile=percentile,\n",
        "                            goal_score=goal_score, history_length=history_length, n_jobs=n_jobs, verbose=True,\n",
        "                            **params)\n",
        "                        \n",
        "                        elapsed_time_list.append(time() - elapsed_time)\n",
        "                        \n",
        "                        log_list.append(log)\n",
        "                        \n",
        "                        del log, agent\n",
        "                        \n",
        "                    results = {\n",
        "                               'name': name,\n",
        "                               'goal_score': goal_score,\n",
        "                               'n_jobs': n_jobs,\n",
        "                               'elapsed_time_list': elapsed_time_list,\n",
        "                               'history_length': history_length,\n",
        "                               'learning_rate_init': learning_rate_init,\n",
        "                               'n_train_steps': n_train_steps,\n",
        "                               'log_list': log_list\n",
        "                              }\n",
        "                        \n",
        "                    experiment_data.append(results)\n",
        "                    \n",
        "                    del elapsed_time_list, log_list\n",
        "    return experiment_data"
      ]
    },
    {
      "cell_type": "markdown",
      "metadata": {
        "id": "2F5NdX-t8o--"
      },
      "source": [
        "Функция-помощник для визуализации эффектов от переиспользования сэмплов:"
      ]
    },
    {
      "cell_type": "code",
      "execution_count": null,
      "metadata": {
        "id": "aJpUSYw_8o-_"
      },
      "outputs": [],
      "source": [
        "def plot_history_length_experiment_results(df_data):\n",
        "    history_length_vals = []\n",
        "    train_step_vals = []\n",
        "    reward_vals = []\n",
        "    mean_threshold_vals = []\n",
        "    \n",
        "    for config in df_data:\n",
        "        for log in config['log_list']:\n",
        "            mean_rewards, reward_thresholds = zip(*log)\n",
        "            mean_rewards, reward_thresholds = list(mean_rewards), list(reward_thresholds)\n",
        "            reward_vals.extend(mean_rewards)\n",
        "            reward_vals.extend(reward_thresholds)\n",
        "            train_steps_num = len(mean_rewards)\n",
        "            train_step_vals.extend(range(train_steps_num))\n",
        "            train_step_vals.extend(range(train_steps_num))\n",
        "            history_length_vals.extend([config['history_length']] * train_steps_num * 2)\n",
        "            mean_threshold_vals.extend(['mean'] * train_steps_num)\n",
        "            mean_threshold_vals.extend(['threshold'] * train_steps_num)\n",
        "    \n",
        "    df = pd.DataFrame({'Переиспользованных шагов': history_length_vals, 'Шаг №': train_step_vals,\n",
        "                       'Награда': reward_vals, 'Вид награды': mean_threshold_vals})\n",
        "    last_steps_count = np.sort(df.loc[:, 'Переиспользованных шагов'].unique())\n",
        "    max_n_colors = last_steps_count.size\n",
        "    palette = dict(zip(last_steps_count, sns.hls_palette(max_n_colors, l=.45, s=.8)))\n",
        "    \n",
        "    sns.set(font_scale=1.35)\n",
        "    g = sns.relplot(x='Шаг №', y='Награда', hue='Переиспользованных шагов', style='Вид награды', kind='line',\n",
        "                    data=df, height=8, aspect=1.5, palette=palette)\n",
        "    g.fig.suptitle('Влияние количества переиспользованных шагов при обучении {}'.format(df_data[0]['name']))\n",
        "    clear_output(True)\n",
        "    plt.show()"
      ]
    },
    {
      "cell_type": "markdown",
      "metadata": {
        "id": "m7YN_lQ38o-_"
      },
      "source": [
        "Функция-помощник для визуализации влияния шага обучения и количества итераций при обучении агента:"
      ]
    },
    {
      "cell_type": "code",
      "execution_count": null,
      "metadata": {
        "id": "MjTwfQ778o-_"
      },
      "outputs": [],
      "source": [
        "def plot_lrt_experiment_results(df_data):\n",
        "    learning_rate_vals = []\n",
        "    max_train_steps_vals = []\n",
        "    train_step_vals = []\n",
        "    reward_vals = []\n",
        "    mean_threshold_vals = []\n",
        "    \n",
        "    for config in df_data:\n",
        "        for log in config['log_list']:\n",
        "            mean_rewards, reward_thresholds = zip(*log)\n",
        "            mean_rewards, reward_thresholds = list(mean_rewards), list(reward_thresholds)\n",
        "            reward_vals.extend(mean_rewards)\n",
        "            reward_vals.extend(reward_thresholds)\n",
        "            train_steps_num = len(mean_rewards)\n",
        "            train_step_vals.extend(range(train_steps_num))\n",
        "            train_step_vals.extend(range(train_steps_num))\n",
        "            learning_rate_vals.extend([config['learning_rate_init']] * train_steps_num * 2)\n",
        "            max_train_steps_vals.extend([config['n_train_steps']] * train_steps_num * 2)\n",
        "            mean_threshold_vals.extend(['mean'] * train_steps_num)\n",
        "            mean_threshold_vals.extend(['threshold'] * train_steps_num)\n",
        "                \n",
        "    df = pd.DataFrame({'Шаг метода': learning_rate_vals, 'Максимум шагов': max_train_steps_vals,\n",
        "                       'Шаг №': train_step_vals, 'Награда': reward_vals,\n",
        "                       'Вид награды': mean_threshold_vals})\n",
        "    lr_vals = np.sort(df.loc[:, 'Learning rate'].unique())\n",
        "    max_n_colors = lr_vals.size\n",
        "    palette = dict(zip(lr_vals, sns.hls_palette(max_n_colors, l=.45, s=.8)))\n",
        "    \n",
        "    sns.set(font_scale=1.35)\n",
        "    g = sns.relplot(x='Шаг №', y='Награда', hue='Шаг метода', style='Вид награды', kind='line',\n",
        "                    row='Максимум шагов', data=df, height=6, aspect=1.8, palette=palette)\n",
        "    g.fig.suptitle('Влияние шага метода и количества итераций на {}'.format(df_data[0]['name']),\n",
        "                   x=0.8, y=1.05)\n",
        "    leg = g._legend\n",
        "    for lr, label in zip(lr_vals, leg.texts[1:]):\n",
        "        label.set_text(\"{:.4f}\".format(lr))\n",
        "    clear_output(True)\n",
        "    plt.show()"
      ]
    },
    {
      "cell_type": "markdown",
      "metadata": {
        "id": "4aUAlrY28o-_"
      },
      "source": [
        "Функция для записи сэмплированных игровых эпизодов:"
      ]
    },
    {
      "cell_type": "code",
      "execution_count": null,
      "metadata": {
        "id": "VZrEZY9k8o-_"
      },
      "outputs": [],
      "source": [
        "def record_sessions(agent, name, t_max=10000, classification=True, epsilon=0.01, agent_mul_fac=1.0):\n",
        "    for kind, directory in [(True, \"test\"), (False, \"sample\")]:\n",
        "        env = gym.wrappers.Monitor(gym.make(name),\n",
        "                                   directory=\"videos/{}/{}\".format(name, directory), force=True)\n",
        "        sessions = [generate_parallel_session(agent, name=name, t_max=t_max, classification=classification,\n",
        "                                              epsilon=epsilon, agent_mul_fac=agent_mul_fac, test=kind,\n",
        "                                              env=env) for _ in range(100)]\n",
        "        env.close()"
      ]
    },
    {
      "cell_type": "markdown",
      "metadata": {
        "id": "6nEFV_lf8o-_"
      },
      "source": [
        "Функция, позволяющая вставить запись игрового эпизода в ноутбук:"
      ]
    },
    {
      "cell_type": "code",
      "execution_count": null,
      "metadata": {
        "id": "Wl9zV8Yz8o-_"
      },
      "outputs": [],
      "source": [
        "def show_video(name, directory):\n",
        "    path = \"./videos/{}/{}\".format(name, directory)\n",
        "    video_names = list(\n",
        "        filter(lambda s: s.endswith(\".mp4\"), os.listdir(path)))\n",
        "    return HTML(\"\"\"\n",
        "    <video width=\"640\" height=\"480\" controls>\n",
        "    <source src=\"{}\" type=\"video/mp4\">\n",
        "    </video>\n",
        "    \"\"\".format(path + \"/\" + video_names[-1]))"
      ]
    },
    {
      "cell_type": "markdown",
      "metadata": {
        "id": "Fwl_Ajwd8o-_"
      },
      "source": [
        "Сетка параметров для проведения экспериментов:"
      ]
    },
    {
      "cell_type": "code",
      "execution_count": null,
      "metadata": {
        "id": "riXHwLXa8o-_"
      },
      "outputs": [],
      "source": [
        "< n_jobs_list = сетка на количество процессов\n",
        "history_length_list = сетка на размер истории\n",
        "learning_rate_init_list = сетка на шаги метода\n",
        "n_train_steps_list = сетка на количество итераций метода >"
      ]
    },
    {
      "cell_type": "markdown",
      "metadata": {
        "id": "1JbL5VLG8o-_"
      },
      "source": [
        "## Глубокий кросс-энтропийный метод в среде MountainCar-v0"
      ]
    },
    {
      "cell_type": "code",
      "execution_count": null,
      "metadata": {
        "ExecuteTime": {
          "end_time": "2019-09-18T11:26:58.566980Z",
          "start_time": "2019-09-18T11:26:58.237111Z"
        },
        "run_control": {
          "frozen": false,
          "read_only": false
        },
        "id": "G1ij90-h8o_A"
      },
      "outputs": [],
      "source": [
        "sns.set(font_scale=1.)\n",
        "env, n_actions, _ = get_env(\"MountainCar-v0\")"
      ]
    },
    {
      "cell_type": "code",
      "execution_count": null,
      "metadata": {
        "ExecuteTime": {
          "end_time": "2019-09-18T11:26:59.458476Z",
          "start_time": "2019-09-18T11:26:59.453077Z"
        },
        "run_control": {
          "frozen": false,
          "read_only": false
        },
        "id": "HWw2cYqi8o_A"
      },
      "outputs": [],
      "source": [
        "env.observation_space, env.action_space"
      ]
    },
    {
      "cell_type": "markdown",
      "metadata": {
        "id": "R-EQwVr18o_A"
      },
      "source": [
        "Поиск оптимального количества параллельных легковесных процессов (нитей) на конечной машине:"
      ]
    },
    {
      "cell_type": "code",
      "execution_count": null,
      "metadata": {
        "id": "NA_32kwY8o_A"
      },
      "outputs": [],
      "source": [
        "%%time\n",
        "\n",
        "n_jobs_experiment_data = < запуск перебора на сетке с помощью training_experiment >\n",
        "\n",
        "sns.set(font_scale=1.)\n",
        "pkl.dump(n_jobs_experiment_data, open('MountainCar-v0_n_jobs_experiment_data.pkl', 'wb'))\n",
        "clear_output(True)"
      ]
    },
    {
      "cell_type": "markdown",
      "metadata": {
        "id": "CXB5kXWD8o_A"
      },
      "source": [
        "Визуализация результатов эксперимента:"
      ]
    },
    {
      "cell_type": "code",
      "execution_count": null,
      "metadata": {
        "id": "1DK9XMLa8o_A"
      },
      "outputs": [],
      "source": [
        "import seaborn as sns\n",
        "from matplotlib import pyplot as plt\n",
        "import pandas as pd\n",
        "\n",
        "\n",
        "n_jobs_vals = []\n",
        "elapsed_time_vals = []\n",
        "elapsed_time_vars = []\n",
        "\n",
        "for config in n_jobs_experiment_data:\n",
        "    n_jobs_vals.append(config['n_jobs'])\n",
        "    elapsed_time_vals.append(np.mean(config['elapsed_time_list']))\n",
        "    elapsed_time_vars.append(np.std(config['elapsed_time_list']))\n",
        "\n",
        "df = pd.DataFrame({'Количество нитей': n_jobs_vals, 'Средний ETA, сек.': elapsed_time_vals,\n",
        "                   'Стандартное отклонение ETA': elapsed_time_vars})\n",
        "\n",
        "plt.figure(figsize=(12, 6))\n",
        "sns.set(font_scale=1.35)\n",
        "plt.title('Производительность 5 итераций обучения на {}'.format(n_jobs_experiment_data[0]['name']),\n",
        "          fontsize=16)\n",
        "ax = sns.scatterplot(x='Количество нитей', y='Средний ETA, сек.', size='Стандартное отклонение ETA',\n",
        "                     sizes=(40, 400), data=df)\n",
        "min_val = np.min(elapsed_time_vals)\n",
        "ax.axhline(min_val, color='red', ls='--', linewidth=2, label='{:.2f} сек.'.format(min_val))\n",
        "plt.legend()\n",
        "clear_output(True)\n",
        "plt.show()"
      ]
    },
    {
      "cell_type": "markdown",
      "metadata": {
        "id": "NZeKfyEv8o_A"
      },
      "source": [
        "Исследование влияния переиспользования сэмплов в процессе обучения:"
      ]
    },
    {
      "cell_type": "code",
      "execution_count": null,
      "metadata": {
        "id": "FXYK7w2a8o_A"
      },
      "outputs": [],
      "source": [
        "%%time\n",
        "\n",
        "history_length_experiment_data = < запуск перебора на сетке с помощью training_experiment >\n",
        "\n",
        "sns.set(font_scale=1.)\n",
        "pkl.dump(history_length_experiment_data, open('MountainCar-v0_history_length_experiment_data.pkl', 'wb'))\n",
        "clear_output(True)"
      ]
    },
    {
      "cell_type": "markdown",
      "metadata": {
        "id": "dvDCzlk68o_A"
      },
      "source": [
        "Результаты текущего эксперимента:"
      ]
    },
    {
      "cell_type": "code",
      "execution_count": null,
      "metadata": {
        "id": "YF_YYc2H8o_A"
      },
      "outputs": [],
      "source": [
        "plot_history_length_experiment_results(history_length_experiment_data)"
      ]
    },
    {
      "cell_type": "markdown",
      "metadata": {
        "id": "gMGXuJeF8o_A"
      },
      "source": [
        "Поиск оптимального шага обучения для многослойного перцептрона (MLP) вместе c подбором количества шагов обучения:"
      ]
    },
    {
      "cell_type": "code",
      "execution_count": null,
      "metadata": {
        "id": "-Po4MIRR8o_A"
      },
      "outputs": [],
      "source": [
        "%%time\n",
        "\n",
        "lrt_experiment_data = < запуск перебора на сетке с помощью training_experiment >\n",
        "\n",
        "sns.set(font_scale=1.)\n",
        "pkl.dump(lrt_experiment_data, open('MountainCar-v0_lrt_experiment_data.pkl', 'wb'))\n",
        "clear_output(True)"
      ]
    },
    {
      "cell_type": "markdown",
      "metadata": {
        "id": "_rIBTvqr8o_D"
      },
      "source": [
        "Результаты текущего эксперимента:"
      ]
    },
    {
      "cell_type": "code",
      "execution_count": null,
      "metadata": {
        "id": "xn771rhU8o_D"
      },
      "outputs": [],
      "source": [
        "plot_lrt_experiment_results(lrt_experiment_data)"
      ]
    },
    {
      "cell_type": "markdown",
      "metadata": {
        "id": "3xMM2hDi8o_D"
      },
      "source": [
        "Обучение агента на задаче MountainCar-v0 с использованием подобранных ранее гиперпараметров:"
      ]
    },
    {
      "cell_type": "code",
      "execution_count": null,
      "metadata": {
        "id": "tOT15bsb8o_D"
      },
      "outputs": [],
      "source": [
        "%%time\n",
        "\n",
        "sns.set(font_scale=1.)\n",
        "agent, _ = < запуск функции train_agent для обучения агента >"
      ]
    },
    {
      "cell_type": "markdown",
      "metadata": {
        "id": "epZuWc878o_D"
      },
      "source": [
        "Визуализация действий обученного агента в зависимости скорости и положения:"
      ]
    },
    {
      "cell_type": "code",
      "execution_count": null,
      "metadata": {
        "ExecuteTime": {
          "end_time": "2019-09-18T11:55:31.581377Z",
          "start_time": "2019-09-18T11:55:31.311601Z"
        },
        "run_control": {
          "frozen": false,
          "read_only": false
        },
        "id": "vdHeTmWj8o_D"
      },
      "outputs": [],
      "source": [
        "sns.set(font_scale=1.)\n",
        "plt.imshow(visualize_mountain_car(env, agent))"
      ]
    },
    {
      "cell_type": "markdown",
      "metadata": {
        "id": "mIxDxsC58o_E"
      },
      "source": [
        "Сэмпл детерминированной стратегии по въезду на холм:"
      ]
    },
    {
      "cell_type": "code",
      "execution_count": null,
      "metadata": {
        "id": "1PXxVpp68o_E"
      },
      "outputs": [],
      "source": [
        "record_sessions(agent, \"MountainCar-v0\")\n",
        "show_video(\"MountainCar-v0\", \"test\")"
      ]
    },
    {
      "cell_type": "markdown",
      "metadata": {
        "id": "_rfUw0Tf8o_E"
      },
      "source": [
        "Сэмпл стохастической стратегии по въезду на холм:"
      ]
    },
    {
      "cell_type": "code",
      "execution_count": null,
      "metadata": {
        "id": "g96Qa4Tc8o_E"
      },
      "outputs": [],
      "source": [
        "show_video(\"MountainCar-v0\", \"sample\")"
      ]
    },
    {
      "cell_type": "markdown",
      "metadata": {
        "id": "epZshTWM8o_E"
      },
      "source": [
        "## Обучение агента в среде LunarLander-v2"
      ]
    },
    {
      "cell_type": "code",
      "execution_count": null,
      "metadata": {
        "ExecuteTime": {
          "end_time": "2019-09-18T12:12:40.985701Z",
          "start_time": "2019-09-18T12:12:40.844112Z"
        },
        "run_control": {
          "frozen": false,
          "read_only": false
        },
        "id": "oePfjRoF8o_E"
      },
      "outputs": [],
      "source": [
        "sns.set(font_scale=1.)\n",
        "env, n_actions, _ = get_env(\"LunarLander-v2\")"
      ]
    },
    {
      "cell_type": "code",
      "execution_count": null,
      "metadata": {
        "id": "k7TJKj_q8o_E"
      },
      "outputs": [],
      "source": [
        "env.observation_space, env.action_space"
      ]
    },
    {
      "cell_type": "markdown",
      "metadata": {
        "id": "cBZsiejX8o_E"
      },
      "source": [
        "Обучение агента:"
      ]
    },
    {
      "cell_type": "code",
      "execution_count": null,
      "metadata": {
        "id": "qi5MvjYK8o_E"
      },
      "outputs": [],
      "source": [
        "%%time\n",
        "\n",
        "agent, _ = < запуск функции train_agent для обучения агента >"
      ]
    },
    {
      "cell_type": "markdown",
      "metadata": {
        "id": "axboZuDi8o_E"
      },
      "source": [
        "Детерминированная стратегия:"
      ]
    },
    {
      "cell_type": "code",
      "execution_count": null,
      "metadata": {
        "id": "9rztLrUf8o_E"
      },
      "outputs": [],
      "source": [
        "record_sessions(agent, 'LunarLander-v2', t_max=1000)\n",
        "show_video('LunarLander-v2', 'test')"
      ]
    },
    {
      "cell_type": "markdown",
      "metadata": {
        "id": "HdxBQwmz8o_E"
      },
      "source": [
        "Стохастическая стратегия:"
      ]
    },
    {
      "cell_type": "code",
      "execution_count": null,
      "metadata": {
        "id": "NJtKJoWb8o_E"
      },
      "outputs": [],
      "source": [
        "show_video('LunarLander-v2', 'sample')"
      ]
    },
    {
      "cell_type": "markdown",
      "metadata": {
        "run_control": {
          "frozen": false,
          "read_only": false
        },
        "id": "UWTMtf_R8o_E"
      },
      "source": [
        "### Ещё дополнительное задание (вплоть до 5 баллов)\n",
        "\n",
        "* __2.3 дополнительное__ Обучить агента в среде с непрерывным пространством действий с помощью `MLPRegressor` или похожим образом.\n",
        "  * Начните с [\"Pendulum-v0\"](https://www.gymlibrary.dev/environments/classic_control/pendulum/), попробуйте получить среднее вознаграждение **как минимум -300**.\n",
        "  * Поскольку Ваш агент оценивает \"среднее\" действие, полезно добавить небольшой шум для исследования среды.\n",
        "  * Обучить агентов в [MountainCarContinuous-v0](https://mgoulao.github.io/gym-docs/environments/classic_control/mountain_car_continuous/), [LunarLanderContinuous-v2](https://www.gymlibrary.dev/environments/box2d/lunar_lander/). За достижение награды ниже порогового значения будет начислено меньше баллов. Помните, что дискретные и непрерывные среды могут отличаться не только в пространстве действий. Требования на среднее вознаграждение такие же, как и в случае сред **MountainCar** и **LunarLander** ранее.\n",
        "  * __Просьба при сдаче задания перечислить, что было сделано__"
      ]
    },
    {
      "cell_type": "markdown",
      "metadata": {
        "id": "8N7UtQ738o_E"
      },
      "source": [
        "## Обучение в Pendulum-v0"
      ]
    },
    {
      "cell_type": "code",
      "execution_count": null,
      "metadata": {
        "id": "VwXgQqf48o_E"
      },
      "outputs": [],
      "source": [
        "sns.set(font_scale=1.)\n",
        "env, n_actions, _ = get_env('Pendulum-v0', False)"
      ]
    },
    {
      "cell_type": "code",
      "execution_count": null,
      "metadata": {
        "id": "fuJxlLGW8o_F"
      },
      "outputs": [],
      "source": [
        "env.observation_space, env.action_space"
      ]
    },
    {
      "cell_type": "markdown",
      "metadata": {
        "id": "bIbOM6Gx8o_F"
      },
      "source": [
        "Обучение агента:"
      ]
    },
    {
      "cell_type": "code",
      "execution_count": null,
      "metadata": {
        "id": "V4HXfPBE8o_F"
      },
      "outputs": [],
      "source": [
        "%%time\n",
        "\n",
        "agent, _ = < запуск функции train_agent для обучения агента >"
      ]
    },
    {
      "cell_type": "markdown",
      "metadata": {
        "id": "TLwXUNBZ8o_F"
      },
      "source": [
        "Детерминированная стратегия:"
      ]
    },
    {
      "cell_type": "code",
      "execution_count": null,
      "metadata": {
        "id": "zMEoR6XM8o_F"
      },
      "outputs": [],
      "source": [
        "record_sessions(agent, 'Pendulum-v0', t_max=1000, classification=False, epsilon=.5, agent_mul_fac=2.)\n",
        "show_video('Pendulum-v0', 'test')"
      ]
    },
    {
      "cell_type": "markdown",
      "metadata": {
        "id": "0lA2tfXR8o_F"
      },
      "source": [
        "Стохастическая стратегия:"
      ]
    },
    {
      "cell_type": "code",
      "execution_count": null,
      "metadata": {
        "id": "9qg-rvPg8o_F"
      },
      "outputs": [],
      "source": [
        "show_video('Pendulum-v0', 'sample')"
      ]
    },
    {
      "cell_type": "markdown",
      "metadata": {
        "id": "Q_eJBSoJ8o_F"
      },
      "source": [
        "## Обучение MountainCarContinuous-v0"
      ]
    },
    {
      "cell_type": "code",
      "execution_count": null,
      "metadata": {
        "id": "-M24eT3p8o_F"
      },
      "outputs": [],
      "source": [
        "sns.set(font_scale=1.)\n",
        "env, n_actions, _ = get_env('MountainCarContinuous-v0', False)"
      ]
    },
    {
      "cell_type": "code",
      "execution_count": null,
      "metadata": {
        "id": "hOziFJBc8o_F"
      },
      "outputs": [],
      "source": [
        "env.observation_space, env.action_space"
      ]
    },
    {
      "cell_type": "markdown",
      "metadata": {
        "id": "iKq6WWPO8o_F"
      },
      "source": [
        "Обучение агента:"
      ]
    },
    {
      "cell_type": "code",
      "execution_count": null,
      "metadata": {
        "id": "XqF-kSBa8o_F"
      },
      "outputs": [],
      "source": [
        "%%time\n",
        "\n",
        "agent, _ = < запуск функции train_agent для обучения агента >"
      ]
    },
    {
      "cell_type": "markdown",
      "metadata": {
        "id": "NYqIamkU8o_F"
      },
      "source": [
        "Детерминированная стратегия:"
      ]
    },
    {
      "cell_type": "code",
      "execution_count": null,
      "metadata": {
        "id": "0h7YBe-z8o_F"
      },
      "outputs": [],
      "source": [
        "record_sessions(agent, 'MountainCarContinuous-v0', t_max=10000, classification=False, epsilon=1.0,\n",
        "                agent_mul_fac=1.0)\n",
        "show_video('MountainCarContinuous-v0', 'test')"
      ]
    },
    {
      "cell_type": "markdown",
      "metadata": {
        "id": "M5_4bal88o_F"
      },
      "source": [
        "Стохастическая стратегия:"
      ]
    },
    {
      "cell_type": "code",
      "execution_count": null,
      "metadata": {
        "id": "JzZxma_n8o_F"
      },
      "outputs": [],
      "source": [
        "show_video('MountainCarContinuous-v0', 'sample')"
      ]
    },
    {
      "cell_type": "markdown",
      "metadata": {
        "id": "PVBeYbcQ8o_F"
      },
      "source": [
        "## Обучение LunarLanderContinuous-v2"
      ]
    },
    {
      "cell_type": "code",
      "execution_count": null,
      "metadata": {
        "id": "jAA_E4-U8o_F"
      },
      "outputs": [],
      "source": [
        "sns.set(font_scale=1.)\n",
        "env, n_actions, _ = get_env('LunarLanderContinuous-v2', False)"
      ]
    },
    {
      "cell_type": "code",
      "execution_count": null,
      "metadata": {
        "id": "UzYJobhO8o_G"
      },
      "outputs": [],
      "source": [
        "env.observation_space, env.action_space"
      ]
    },
    {
      "cell_type": "markdown",
      "metadata": {
        "id": "R0pOnXTC8o_G"
      },
      "source": [
        "Обучение агента:"
      ]
    },
    {
      "cell_type": "code",
      "execution_count": null,
      "metadata": {
        "id": "aRwmCyry8o_G"
      },
      "outputs": [],
      "source": [
        "%%time\n",
        "\n",
        "agent, _ = < запуск функции train_agent для обучения агента >"
      ]
    },
    {
      "cell_type": "markdown",
      "metadata": {
        "id": "4zzg2Feq8o_G"
      },
      "source": [
        "Детерминированная стратегия:"
      ]
    },
    {
      "cell_type": "code",
      "execution_count": null,
      "metadata": {
        "id": "l2dF0xJ88o_G"
      },
      "outputs": [],
      "source": [
        "record_sessions(agent, 'LunarLanderContinuous-v2', t_max=1000, classification=False, epsilon=1.0,\n",
        "                agent_mul_fac=1.0)\n",
        "show_video('LunarLanderContinuous-v2', 'test')"
      ]
    },
    {
      "cell_type": "markdown",
      "metadata": {
        "id": "rIShX3Wc8o_G"
      },
      "source": [
        "Стохастическая стратегия:"
      ]
    },
    {
      "cell_type": "code",
      "execution_count": null,
      "metadata": {
        "id": "F6ol4r7A8o_G"
      },
      "outputs": [],
      "source": [
        "show_video('LunarLanderContinuous-v2', 'sample')"
      ]
    },
    {
      "cell_type": "code",
      "execution_count": null,
      "metadata": {
        "id": "ZO0pJNqS8o_G"
      },
      "outputs": [],
      "source": []
    }
  ],
  "metadata": {
    "kernelspec": {
      "display_name": "Python 3 (ipykernel)",
      "language": "python",
      "name": "python3"
    },
    "language_info": {
      "codemirror_mode": {
        "name": "ipython",
        "version": 3
      },
      "file_extension": ".py",
      "mimetype": "text/x-python",
      "name": "python",
      "nbconvert_exporter": "python",
      "pygments_lexer": "ipython3",
      "version": "3.9.13"
    },
    "colab": {
      "provenance": []
    }
  },
  "nbformat": 4,
  "nbformat_minor": 0
}